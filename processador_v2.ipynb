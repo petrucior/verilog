{
  "nbformat": 4,
  "nbformat_minor": 0,
  "metadata": {
    "colab": {
      "name": "processador_v2.ipynb",
      "provenance": [],
      "collapsed_sections": [],
      "authorship_tag": "ABX9TyO4kUh3+dcYwQJaPvpR2LjP",
      "include_colab_link": true
    },
    "kernelspec": {
      "name": "python3",
      "display_name": "Python 3"
    },
    "language_info": {
      "name": "python"
    }
  },
  "cells": [
    {
      "cell_type": "markdown",
      "metadata": {
        "id": "view-in-github",
        "colab_type": "text"
      },
      "source": [
        "<a href=\"https://colab.research.google.com/github/petrucior/verilog/blob/main/processador_v2.ipynb\" target=\"_parent\"><img src=\"https://colab.research.google.com/assets/colab-badge.svg\" alt=\"Open In Colab\"/></a>"
      ]
    },
    {
      "cell_type": "markdown",
      "source": [
        "# Projeto de processador simplificado\n",
        "\n",
        "Author: Petrúcio Medeiros\n",
        "\n",
        "- Descrição: Neste projeto foi considerado um contador de programa (PC), uma memória de instruções que contém 100 endereços e cada endereço com 32 bits. Um banco de registradores com 32 endereços de 32 bits previamente definido com os endereços 0 e 1 preenchidos com os valores 3 e 5, respectivamente. Uma unidade lógica aritmética (ULA) para realizar a operação de soma. Finalmente, uma Unidade Central de Processamento (CPU) para coordenar as operações entre essas unidades.\n",
        "\n",
        "  As instruções são codificadas como no MIPS 32:\n",
        "  - Opcode : 6 bits\n",
        "  - Registrador destino : 5 bits\n",
        "  - Registrador fonte 1 : 5 bits\n",
        "  - Registrador fonte 2 : 5 bits\n",
        "  - Shamp ( operações de deslocamento ) : 5 bits\n",
        "  - Funct ( variacoes das operacoes especificadas do opcode ) : 6 bits"
      ],
      "metadata": {
        "id": "phYw_M6XOSJ6"
      }
    },
    {
      "cell_type": "code",
      "execution_count": 1,
      "metadata": {
        "id": "1B40kQ2JIkO1",
        "colab": {
          "base_uri": "https://localhost:8080/"
        },
        "outputId": "bc16e79e-6aa4-41f0-f2b8-3d288fbfce19"
      },
      "outputs": [
        {
          "output_type": "stream",
          "name": "stdout",
          "text": [
            "Get:1 http://security.ubuntu.com/ubuntu bionic-security InRelease [88.7 kB]\n",
            "Hit:2 http://archive.ubuntu.com/ubuntu bionic InRelease\n",
            "Get:3 http://archive.ubuntu.com/ubuntu bionic-updates InRelease [88.7 kB]\n",
            "Get:4 https://cloud.r-project.org/bin/linux/ubuntu bionic-cran40/ InRelease [3,626 B]\n",
            "Hit:5 https://developer.download.nvidia.com/compute/cuda/repos/ubuntu1804/x86_64  InRelease\n",
            "Ign:6 https://developer.download.nvidia.com/compute/machine-learning/repos/ubuntu1804/x86_64  InRelease\n",
            "Hit:7 https://developer.download.nvidia.com/compute/machine-learning/repos/ubuntu1804/x86_64  Release\n",
            "Get:8 http://archive.ubuntu.com/ubuntu bionic-backports InRelease [74.6 kB]\n",
            "Get:9 http://ppa.launchpad.net/c2d4u.team/c2d4u4.0+/ubuntu bionic InRelease [15.9 kB]\n",
            "Hit:10 http://ppa.launchpad.net/cran/libgit2/ubuntu bionic InRelease\n",
            "Get:11 http://security.ubuntu.com/ubuntu bionic-security/main amd64 Packages [2,733 kB]\n",
            "Hit:12 http://ppa.launchpad.net/deadsnakes/ppa/ubuntu bionic InRelease\n",
            "Get:13 https://cloud.r-project.org/bin/linux/ubuntu bionic-cran40/ Packages [84.8 kB]\n",
            "Get:14 http://security.ubuntu.com/ubuntu bionic-security/universe amd64 Packages [1,496 kB]\n",
            "Hit:15 http://ppa.launchpad.net/graphics-drivers/ppa/ubuntu bionic InRelease\n",
            "Get:17 http://archive.ubuntu.com/ubuntu bionic-updates/main amd64 Packages [3,167 kB]\n",
            "Get:18 http://archive.ubuntu.com/ubuntu bionic-updates/universe amd64 Packages [2,272 kB]\n",
            "Get:19 http://ppa.launchpad.net/c2d4u.team/c2d4u4.0+/ubuntu bionic/main Sources [1,953 kB]\n",
            "Get:20 http://ppa.launchpad.net/c2d4u.team/c2d4u4.0+/ubuntu bionic/main amd64 Packages [1,001 kB]\n",
            "Fetched 13.0 MB in 4s (3,468 kB/s)\n",
            "Reading package lists...\n",
            "Reading package lists...\n",
            "Building dependency tree...\n",
            "Reading state information...\n",
            "The following packages were automatically installed and are no longer required:\n",
            "  libnvidia-common-460 nsight-compute-2020.2.0\n",
            "Use 'sudo apt autoremove' to remove them.\n",
            "The following additional packages will be installed:\n",
            "  gconf-service gconf-service-backend gconf2-common iverilog libdbus-glib-1-2\n",
            "  libgail-common libgail18 libgconf-2-4 libgtk2.0-0 libgtk2.0-bin\n",
            "  libgtk2.0-common libjudydebian1\n",
            "Suggested packages:\n",
            "  gvfs\n",
            "The following NEW packages will be installed:\n",
            "  gconf-service gconf-service-backend gconf2-common gtkwave iverilog\n",
            "  libdbus-glib-1-2 libgail-common libgail18 libgconf-2-4 libgtk2.0-0\n",
            "  libgtk2.0-bin libgtk2.0-common libjudydebian1 verilog\n",
            "0 upgraded, 14 newly installed, 0 to remove and 54 not upgraded.\n",
            "Need to get 7,249 kB of archives.\n",
            "After this operation, 26.4 MB of additional disk space will be used.\n",
            "Get:1 http://archive.ubuntu.com/ubuntu bionic/main amd64 libdbus-glib-1-2 amd64 0.110-2 [58.3 kB]\n",
            "Get:2 http://archive.ubuntu.com/ubuntu bionic/universe amd64 gconf2-common all 3.2.6-4ubuntu1 [700 kB]\n",
            "Get:3 http://archive.ubuntu.com/ubuntu bionic/universe amd64 libgconf-2-4 amd64 3.2.6-4ubuntu1 [84.8 kB]\n",
            "Get:4 http://archive.ubuntu.com/ubuntu bionic/universe amd64 gconf-service-backend amd64 3.2.6-4ubuntu1 [58.1 kB]\n",
            "Get:5 http://archive.ubuntu.com/ubuntu bionic/universe amd64 gconf-service amd64 3.2.6-4ubuntu1 [2,036 B]\n",
            "Get:6 http://archive.ubuntu.com/ubuntu bionic/main amd64 libgtk2.0-common all 2.24.32-1ubuntu1 [125 kB]\n",
            "Get:7 http://archive.ubuntu.com/ubuntu bionic/main amd64 libgtk2.0-0 amd64 2.24.32-1ubuntu1 [1,769 kB]\n",
            "Get:8 http://archive.ubuntu.com/ubuntu bionic/universe amd64 libjudydebian1 amd64 1.0.5-5 [94.6 kB]\n",
            "Get:9 http://archive.ubuntu.com/ubuntu bionic/universe amd64 gtkwave amd64 3.3.86-1 [2,409 kB]\n",
            "Get:10 http://archive.ubuntu.com/ubuntu bionic/universe amd64 iverilog amd64 10.1-0.1build1 [1,811 kB]\n",
            "Get:11 http://archive.ubuntu.com/ubuntu bionic/main amd64 libgail18 amd64 2.24.32-1ubuntu1 [14.2 kB]\n",
            "Get:12 http://archive.ubuntu.com/ubuntu bionic/main amd64 libgail-common amd64 2.24.32-1ubuntu1 [112 kB]\n",
            "Get:13 http://archive.ubuntu.com/ubuntu bionic/main amd64 libgtk2.0-bin amd64 2.24.32-1ubuntu1 [7,536 B]\n",
            "Get:14 http://archive.ubuntu.com/ubuntu bionic/universe amd64 verilog all 10.1-0.1build1 [2,640 B]\n",
            "Fetched 7,249 kB in 0s (18.0 MB/s)\n",
            "Selecting previously unselected package libdbus-glib-1-2:amd64.\r\n",
            "(Reading database ... \r(Reading database ... 5%\r(Reading database ... 10%\r(Reading database ... 15%\r(Reading database ... 20%\r(Reading database ... 25%\r(Reading database ... 30%\r(Reading database ... 35%\r(Reading database ... 40%\r(Reading database ... 45%\r(Reading database ... 50%\r(Reading database ... 55%\r(Reading database ... 60%\r(Reading database ... 65%\r(Reading database ... 70%\r(Reading database ... 75%\r(Reading database ... 80%\r(Reading database ... 85%\r(Reading database ... 90%\r(Reading database ... 95%\r(Reading database ... 100%\r(Reading database ... 155202 files and directories currently installed.)\r\n",
            "Preparing to unpack .../00-libdbus-glib-1-2_0.110-2_amd64.deb ...\r\n",
            "Unpacking libdbus-glib-1-2:amd64 (0.110-2) ...\r\n",
            "Selecting previously unselected package gconf2-common.\r\n",
            "Preparing to unpack .../01-gconf2-common_3.2.6-4ubuntu1_all.deb ...\r\n",
            "Unpacking gconf2-common (3.2.6-4ubuntu1) ...\r\n",
            "Selecting previously unselected package libgconf-2-4:amd64.\r\n",
            "Preparing to unpack .../02-libgconf-2-4_3.2.6-4ubuntu1_amd64.deb ...\r\n",
            "Unpacking libgconf-2-4:amd64 (3.2.6-4ubuntu1) ...\r\n",
            "Selecting previously unselected package gconf-service-backend.\r\n",
            "Preparing to unpack .../03-gconf-service-backend_3.2.6-4ubuntu1_amd64.deb ...\r\n",
            "Unpacking gconf-service-backend (3.2.6-4ubuntu1) ...\r\n",
            "Selecting previously unselected package gconf-service.\r\n",
            "Preparing to unpack .../04-gconf-service_3.2.6-4ubuntu1_amd64.deb ...\r\n",
            "Unpacking gconf-service (3.2.6-4ubuntu1) ...\r\n",
            "Selecting previously unselected package libgtk2.0-common.\r\n",
            "Preparing to unpack .../05-libgtk2.0-common_2.24.32-1ubuntu1_all.deb ...\r\n",
            "Unpacking libgtk2.0-common (2.24.32-1ubuntu1) ...\r\n",
            "Selecting previously unselected package libgtk2.0-0:amd64.\r\n",
            "Preparing to unpack .../06-libgtk2.0-0_2.24.32-1ubuntu1_amd64.deb ...\r\n",
            "Unpacking libgtk2.0-0:amd64 (2.24.32-1ubuntu1) ...\r\n",
            "Selecting previously unselected package libjudydebian1.\r\n",
            "Preparing to unpack .../07-libjudydebian1_1.0.5-5_amd64.deb ...\r\n",
            "Unpacking libjudydebian1 (1.0.5-5) ...\r\n",
            "Selecting previously unselected package gtkwave.\r\n",
            "Preparing to unpack .../08-gtkwave_3.3.86-1_amd64.deb ...\r\n",
            "Unpacking gtkwave (3.3.86-1) ...\r\n",
            "Selecting previously unselected package iverilog.\r\n",
            "Preparing to unpack .../09-iverilog_10.1-0.1build1_amd64.deb ...\r\n",
            "Unpacking iverilog (10.1-0.1build1) ...\r\n",
            "Selecting previously unselected package libgail18:amd64.\r\n",
            "Preparing to unpack .../10-libgail18_2.24.32-1ubuntu1_amd64.deb ...\r\n",
            "Unpacking libgail18:amd64 (2.24.32-1ubuntu1) ...\r\n",
            "Selecting previously unselected package libgail-common:amd64.\r\n",
            "Preparing to unpack .../11-libgail-common_2.24.32-1ubuntu1_amd64.deb ...\r\n",
            "Unpacking libgail-common:amd64 (2.24.32-1ubuntu1) ...\r\n",
            "Selecting previously unselected package libgtk2.0-bin.\r\n",
            "Preparing to unpack .../12-libgtk2.0-bin_2.24.32-1ubuntu1_amd64.deb ...\r\n",
            "Unpacking libgtk2.0-bin (2.24.32-1ubuntu1) ...\r\n",
            "Selecting previously unselected package verilog.\r\n",
            "Preparing to unpack .../13-verilog_10.1-0.1build1_all.deb ...\r\n",
            "Unpacking verilog (10.1-0.1build1) ...\r\n",
            "Setting up gconf2-common (3.2.6-4ubuntu1) ...\r\n",
            "debconf: unable to initialize frontend: Dialog\r\n",
            "debconf: (No usable dialog-like program is installed, so the dialog based frontend cannot be used. at /usr/share/perl5/Debconf/FrontEnd/Dialog.pm line 76.)\r\n",
            "debconf: falling back to frontend: Readline\r\n",
            "\r\n",
            "Creating config file /etc/gconf/2/path with new version\r\n",
            "Setting up libgtk2.0-common (2.24.32-1ubuntu1) ...\r\n",
            "Setting up libdbus-glib-1-2:amd64 (0.110-2) ...\r\n",
            "Setting up libgconf-2-4:amd64 (3.2.6-4ubuntu1) ...\r\n",
            "Setting up iverilog (10.1-0.1build1) ...\r\n",
            "Setting up libjudydebian1 (1.0.5-5) ...\r\n",
            "Setting up verilog (10.1-0.1build1) ...\r\n",
            "Setting up libgtk2.0-0:amd64 (2.24.32-1ubuntu1) ...\r\n",
            "Setting up libgail18:amd64 (2.24.32-1ubuntu1) ...\r\n",
            "Setting up libgail-common:amd64 (2.24.32-1ubuntu1) ...\r\n",
            "Setting up libgtk2.0-bin (2.24.32-1ubuntu1) ...\r\n",
            "Setting up gconf-service-backend (3.2.6-4ubuntu1) ...\r\n",
            "Setting up gconf-service (3.2.6-4ubuntu1) ...\r\n",
            "Setting up gtkwave (3.3.86-1) ...\r\n",
            "Processing triggers for man-db (2.8.3-2ubuntu0.1) ...\r\n",
            "Processing triggers for shared-mime-info (1.9-2) ...\r\n",
            "Processing triggers for hicolor-icon-theme (0.17-2) ...\r\n",
            "Processing triggers for mime-support (3.60ubuntu1) ...\r\n",
            "Processing triggers for libc-bin (2.27-3ubuntu1.3) ...\r\n",
            "/sbin/ldconfig.real: /usr/local/lib/python3.7/dist-packages/ideep4py/lib/libmkldnn.so.0 is not a symbolic link\r\n",
            "\r\n"
          ]
        },
        {
          "output_type": "stream",
          "name": "stderr",
          "text": [
            "debconf: unable to initialize frontend: Dialog\n",
            "debconf: (No usable dialog-like program is installed, so the dialog based frontend cannot be used. at /usr/share/perl5/Debconf/FrontEnd/Dialog.pm line 76, <> line 14.)\n",
            "debconf: falling back to frontend: Readline\n",
            "debconf: unable to initialize frontend: Readline\n",
            "debconf: (This frontend requires a controlling tty.)\n",
            "debconf: falling back to frontend: Teletype\n",
            "dpkg-preconfigure: unable to re-open stdin: \n"
          ]
        }
      ],
      "source": [
        "# biblioteca do verilog\n",
        "%%bash\n",
        "sudo apt-get update\n",
        "sudo apt-get install verilog gtkwave"
      ]
    },
    {
      "cell_type": "code",
      "source": [
        "%%file pc.sv\n",
        "// Contador de programa ( PC )\n",
        "module pc (clk, address);\n",
        "  // Declaracao de portas\n",
        "  input clk;\n",
        "  reg [31:0] counter;\n",
        "  output [31:0] address;\n",
        "\n",
        "  // Iniciando endereco\n",
        "  initial begin\n",
        "    counter = -32'd1;\n",
        "  end\n",
        "\n",
        "  // Funcionamento do contador => contador + 1\n",
        "  always @(posedge clk) begin\n",
        "    counter <= counter + 32'd1;\n",
        "  end\n",
        "\n",
        "  // Atribuindo o valor do endereco\n",
        "  assign address = counter;\n",
        "endmodule"
      ],
      "metadata": {
        "id": "11AcKfu8I-5-",
        "colab": {
          "base_uri": "https://localhost:8080/"
        },
        "outputId": "6a42824a-6d40-4339-f8fc-b998db72c43f"
      },
      "execution_count": 2,
      "outputs": [
        {
          "output_type": "stream",
          "name": "stdout",
          "text": [
            "Writing pc.sv\n"
          ]
        }
      ]
    },
    {
      "cell_type": "markdown",
      "source": [
        "**Instruções:**\n",
        "\n",
        "----\n",
        "\n",
        "**add rd, r1, r2;**\n",
        "\n",
        "* 6 bits ( opcode ) = **000001**\n",
        "* 5 bits ( registrador destino ) = **00010**\n",
        "* 5 bits ( registrador origem 1 ) = **00000**\n",
        "* 5 bits ( registrador origem 2 ) = **00001**\n",
        "* 5 bits ( shamt - operacoes de deslocamento ) = **00000**\n",
        "* 6 bits ( funct - variacoes das operacoes especificadas do opcode ) = **00000**\n",
        "\n",
        "```\n",
        "Ex.: add $s2, $s0, $s1;\n",
        "         $s2 = 3 + 5 = 8\n",
        "```\n",
        "\n",
        "---\n",
        "\n",
        "**sub rd, r1, r2;**\n",
        "\n",
        "* 6 bits ( opcode ) = **000010**\n",
        "* 5 bits ( registrador destino ) = **00011**\n",
        "* 5 bits ( registrador origem 1 ) = **00001**\n",
        "* 5 bits ( registrador origem 2 ) = **00000**\n",
        "* 5 bits ( shamt - operacoes de deslocamento ) = **00000**\n",
        "* 6 bits ( funct - variacoes das operacoes especificadas do opcode ) = **00000**\n",
        "\n",
        "```\n",
        "Ex. sub $s3, $s1, $s0;\n",
        "        $s3 = 5 - 3 = 2\n",
        "```"
      ],
      "metadata": {
        "id": "41tbeg7bhgGD"
      }
    },
    {
      "cell_type": "code",
      "source": [
        "%%file instructions.txt\n",
        "00000100010000000000100000000000\n",
        "00001000011000010000000000000000"
      ],
      "metadata": {
        "colab": {
          "base_uri": "https://localhost:8080/"
        },
        "id": "6DpYyYGkVysL",
        "outputId": "f3c6d549-9882-41c2-a0bd-c8b58df42966"
      },
      "execution_count": 3,
      "outputs": [
        {
          "output_type": "stream",
          "name": "stdout",
          "text": [
            "Writing instructions.txt\n"
          ]
        }
      ]
    },
    {
      "cell_type": "code",
      "source": [
        "%%file instructions_memory.sv\n",
        "`define NULL 0\n",
        "\n",
        "// Memória de instrucoes\n",
        "module instructions_memory ( clk, programcounter, output_instruction );\n",
        "  // Declaracao de portas\n",
        "  input clk;\n",
        "  input [31:0] programcounter;\n",
        "  output [31:0] output_instruction;\n",
        "\n",
        "  integer f, r; // arquivo\n",
        "  reg [31:0] data = 32'd0;\n",
        "  integer counterMemory = 32'd0;\n",
        "\n",
        "  // Criando uma memoria de instrucoes com 100 enderecos de 32 bits\n",
        "  reg [31:0] memoriaInstrucoes [99:0];\n",
        "\n",
        "  // Iniciando a memoria de instrucoes\n",
        "  /*\n",
        "  initial begin\n",
        "    // 6 bits ( opcode ) = 000001\n",
        "    // 5 bits ( registrador destino ) = 00010\n",
        "    // 5 bits ( registrador origem 1 ) = 00000\n",
        "    // 5 bits ( registrador origem 2 ) = 00001\n",
        "    // 5 bits ( shamt - operacoes de deslocamento ) = 00000\n",
        "    // 6 bits ( funct - variacoes das operacoes especificadas do opcode ) = 00000\n",
        "    memoriaInstrucoes[32'd0] = 32'b00000100010000000000100000000000;\n",
        "  end\n",
        "  */\n",
        "  \n",
        "  initial begin\n",
        "    // Abrindo arquivo\n",
        "    f = $fopen(\"/content/instructions.txt\",\"r\");\n",
        "    // Se arquivo nao contem nenhuma informacao\n",
        "    if ( f == `NULL ) begin\n",
        "      $display(\"Arquivo sem instrucoes\");\n",
        "      $finish;\n",
        "    end \n",
        "\n",
        "    while (! $feof( f )) begin\n",
        "      r = $fscanf( f,\"%32b\\n\", data);\n",
        "      memoriaInstrucoes[counterMemory] = data;\n",
        "      counterMemory = counterMemory + 32'd1;\n",
        "    end\n",
        "\n",
        "    // Fechando arquivo\n",
        "    $fclose( f );\n",
        "  end\n",
        "  \n",
        "\n",
        "  // Atribuindo o valor da instrucao\n",
        "  assign output_instruction = memoriaInstrucoes[ programcounter ];\n",
        "endmodule"
      ],
      "metadata": {
        "id": "L4OKjf-yKRJ_",
        "colab": {
          "base_uri": "https://localhost:8080/"
        },
        "outputId": "1474cf5e-0ee8-40e7-caf5-902af74414f1"
      },
      "execution_count": 4,
      "outputs": [
        {
          "output_type": "stream",
          "name": "stdout",
          "text": [
            "Writing instructions_memory.sv\n"
          ]
        }
      ]
    },
    {
      "cell_type": "markdown",
      "source": [
        "**Dados**: Cada linha do banco de registradores contém um dado.\n",
        "\n",
        "```\n",
        "| 32 bits |\n",
        " --------------------------------------\n",
        "|    3    |    5    |  . . .  |        |  \n",
        " --------------------------------------\n",
        "            100 endereços\n",
        "```"
      ],
      "metadata": {
        "id": "v9vr0G-8moSM"
      }
    },
    {
      "cell_type": "code",
      "source": [
        "%%file registers.txt\n",
        "3\n",
        "5"
      ],
      "metadata": {
        "colab": {
          "base_uri": "https://localhost:8080/"
        },
        "id": "9EEgjIuEn-bR",
        "outputId": "9c4d4384-1ad5-48b3-a983-df7fae289193"
      },
      "execution_count": 5,
      "outputs": [
        {
          "output_type": "stream",
          "name": "stdout",
          "text": [
            "Writing registers.txt\n"
          ]
        }
      ]
    },
    {
      "cell_type": "code",
      "source": [
        "%%file register_bank.sv\n",
        "`define NULL 0\n",
        "\n",
        "// Banco de registradores\n",
        "module register_bank ( clk, addr_regd, addr_reg1, addr_reg2, data_in, value_regd, value_reg1, value_reg2 );\n",
        "  // Declaracao de portas\n",
        "  input clk;\n",
        "  input [4:0] addr_regd, addr_reg1, addr_reg2;\n",
        "  input [31:0] data_in;\n",
        "  output [31:0] value_regd, value_reg1, value_reg2;\n",
        "\n",
        "  integer f, r; // arquivo\n",
        "  reg [31:0] data = 32'd0;\n",
        "  integer counterRegister = 5'd0;\n",
        "\n",
        "  // Criando um banco de registradores com 32 enderecos de 32 bits\n",
        "  reg [31:0] registerBank [31:0];\n",
        "\n",
        "  // Iniciar valores para os registradores reg1 e reg2 no banco de registradores\n",
        "  /*\n",
        "  initial begin\n",
        "    registerBank[5'd0] = 32'd3;\n",
        "    registerBank[5'd1] = 32'd5;\n",
        "  end\n",
        "  */\n",
        "\n",
        "  initial begin\n",
        "    // Abrindo arquivo\n",
        "    f = $fopen(\"/content/registers.txt\",\"r\");\n",
        "    // Se arquivo nao contem nenhuma informacao\n",
        "    if ( f == `NULL ) begin\n",
        "      $display(\"Arquivo sem dados\");\n",
        "      $finish;\n",
        "    end \n",
        "\n",
        "    while (! $feof( f )) begin\n",
        "      r = $fscanf( f,\"%32d\\n\", data);\n",
        "      registerBank[counterRegister] = data;\n",
        "      counterRegister = counterRegister + 5'd1;\n",
        "    end\n",
        "\n",
        "    // Fechando arquivo\n",
        "    $fclose( f );\n",
        "  end\n",
        "\n",
        "\n",
        "  // Descrevendo o comportamento de escrita no banco de registradores\n",
        "  always @(posedge clk) begin\n",
        "    registerBank[addr_regd] <= data_in; \n",
        "  end\n",
        "\n",
        "  // Atribuicao de valores\n",
        "  assign value_regd = registerBank[addr_regd];\n",
        "  assign value_reg1 = registerBank[addr_reg1];\n",
        "  assign value_reg2 = registerBank[addr_reg2];\n",
        "endmodule"
      ],
      "metadata": {
        "colab": {
          "base_uri": "https://localhost:8080/"
        },
        "id": "KDaoTCHuZyaR",
        "outputId": "80927f25-baed-40c5-8325-6ef3194a3b56"
      },
      "execution_count": 6,
      "outputs": [
        {
          "output_type": "stream",
          "name": "stdout",
          "text": [
            "Writing register_bank.sv\n"
          ]
        }
      ]
    },
    {
      "cell_type": "code",
      "source": [
        "%%file ula.sv\n",
        "// Unidade logica aritmetica (ULA)\n",
        "module ula ( opcode, in1, in2, out );\n",
        "  // Declaracao de portas\n",
        "  input [5:0] opcode;\n",
        "  input [31:0] in1, in2;\n",
        "  output [31:0] out;\n",
        "  \n",
        "  // Variavel para guardar resultado\n",
        "  reg [31:0] result;\n",
        "\n",
        "  // Descrevendo o comportamento da ULA\n",
        "  always @(in1, in2, opcode) begin\n",
        "    case ({opcode})\n",
        "      6'd1 : result = in1 + in2;\n",
        "      6'd2 : result = in1 - in2;\n",
        "      default : result = 32'd0;\n",
        "    endcase\n",
        "  end\n",
        "\n",
        "  // Atribuindo o valor do resultado\n",
        "  assign out = result;\n",
        "endmodule"
      ],
      "metadata": {
        "colab": {
          "base_uri": "https://localhost:8080/"
        },
        "id": "N-JaRzc2emVl",
        "outputId": "a4741fdb-57d3-4619-8a07-d6c899dee37c"
      },
      "execution_count": 7,
      "outputs": [
        {
          "output_type": "stream",
          "name": "stdout",
          "text": [
            "Writing ula.sv\n"
          ]
        }
      ]
    },
    {
      "cell_type": "code",
      "source": [
        "%%file cpu.v\n",
        "\n",
        "`include \"pc.sv\"\n",
        "`include \"instructions_memory.sv\"\n",
        "`include \"register_bank.sv\"\n",
        "`include \"ula.sv\"\n",
        "\n",
        "// Unidade Central de Processamento\n",
        "module cpu ( clock, value_output );\n",
        "  // Declaracao de portas\n",
        "  input clock;\n",
        "  output [31:0] value_output;\n",
        "\n",
        "  // Variaveis intermediarias\n",
        "  wire [31:0] address, instruction, data_ula, value_regd, value_reg1, value_reg2;\n",
        "\n",
        "  // PC\n",
        "  pc p(clock, address);\n",
        "\n",
        "  wire flag = 1'd1;\n",
        "\n",
        "  // Acessando memoria de instrucoes\n",
        "  instructions_memory im( clock, address, instruction );\n",
        "\n",
        "  wire [4:0] regd, reg1, reg2;\n",
        "  assign regd = instruction[25:21];\n",
        "  assign reg1 = instruction[20:16];\n",
        "  assign reg2 = instruction[15:11];\n",
        "\n",
        "  wire [5:0] op;\n",
        "  assign op = instruction[31:26];\n",
        "\n",
        "  // Acessando banco de registradores\n",
        "  register_bank rb( clock, regd, reg1, reg2, data_ula, value_regd, value_reg1, value_reg2 );\n",
        "\n",
        "  // Operando sobre os valores dos registradores\n",
        "  ula alu( op, value_reg1, value_reg2, data_ula );\n",
        "\n",
        "  assign value_output = data_ula;\n",
        "\n",
        "  /*\n",
        "\n",
        "  // Atribuindo o valor do registrador destino\n",
        "  assign value_output = value_regd;\n",
        "  */\n",
        "\n",
        "endmodule\n",
        "\n",
        "/*\n",
        "\n",
        " Módulo de teste\n",
        "\n",
        "*/\n",
        "module teste(); // Definindo um módulo de teste, onde adiciono valores\n",
        "parameter nbits = 8; // 2^{entradas} = 2^{3} = 8\n",
        "reg counter; // Criando um registro de 2 bits para entradas\n",
        "wire [31:0] z; // Declarando um fio de saída\n",
        "integer k; // Declarando um inteiro para percorrer todas as possibilidades\n",
        "\tcpu t(counter, z);\n",
        "\tinitial begin // // Início do bloco de comandos\n",
        "\t\t$display(\"clk | z\"); // printf apenas com string\n",
        "\t\t$monitor(\" %1b  | %1d\", counter, z[31:0]); // printf passando variáveis\n",
        "    counter = 0;\n",
        "    /*\n",
        "    Percorre a quantidade de saídas e armazena no contador\n",
        "    */\n",
        "\t\tfor (k=1; k<nbits; k=k+1)\n",
        "     #1 counter = k;\n",
        "\t\t$finish;\n",
        "\tend // Fim do bloco de comandos\n",
        "endmodule\n"
      ],
      "metadata": {
        "colab": {
          "base_uri": "https://localhost:8080/"
        },
        "id": "iWKwNVLggd9x",
        "outputId": "2b707c41-372a-42fd-b808-176135d95125"
      },
      "execution_count": 8,
      "outputs": [
        {
          "output_type": "stream",
          "name": "stdout",
          "text": [
            "Writing cpu.v\n"
          ]
        }
      ]
    },
    {
      "cell_type": "code",
      "source": [
        "%%bash\n",
        "iverilog cpu.v -o cpu\n",
        "vvp cpu"
      ],
      "metadata": {
        "colab": {
          "base_uri": "https://localhost:8080/"
        },
        "id": "ilp_Yy4z991E",
        "outputId": "405409dc-5ae2-47fd-f988-0b680a847e96"
      },
      "execution_count": 9,
      "outputs": [
        {
          "output_type": "stream",
          "name": "stdout",
          "text": [
            "clk | z\n",
            " 0  | x\n",
            " 1  | 8\n",
            " 0  | 8\n",
            " 1  | 2\n",
            " 0  | 2\n",
            " 1  | 0\n",
            " 0  | 0\n",
            " 1  | 0\n"
          ]
        }
      ]
    }
  ]
}