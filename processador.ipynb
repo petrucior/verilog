{
  "nbformat": 4,
  "nbformat_minor": 0,
  "metadata": {
    "colab": {
      "name": "processador.ipynb",
      "provenance": [],
      "collapsed_sections": [],
      "authorship_tag": "ABX9TyOk6QrwinFnuVQVbqrlomSx",
      "include_colab_link": true
    },
    "kernelspec": {
      "name": "python3",
      "display_name": "Python 3"
    },
    "language_info": {
      "name": "python"
    }
  },
  "cells": [
    {
      "cell_type": "markdown",
      "metadata": {
        "id": "view-in-github",
        "colab_type": "text"
      },
      "source": [
        "<a href=\"https://colab.research.google.com/github/petrucior/verilog/blob/main/processador.ipynb\" target=\"_parent\"><img src=\"https://colab.research.google.com/assets/colab-badge.svg\" alt=\"Open In Colab\"/></a>"
      ]
    },
    {
      "cell_type": "markdown",
      "source": [
        "# Projeto de processador simplificado\n",
        "\n",
        "Author: Petrúcio Medeiros\n",
        "\n",
        "- Descrição: Neste projeto foi considerado um contador de programa (PC), uma memória de instruções que contém 100 endereços e cada endereço com 32 bits. Um banco de registradores com 32 endereços de 32 bits previamente definido com os endereços 0 e 1 preenchidos com os valores 3 e 5, respectivamente. Uma unidade lógica aritmética (ULA) para realizar a operação de soma. Finalmente, uma Unidade Central de Processamento (CPU) para coordenar as operações entre essas unidades.\n",
        "\n",
        "  As instruções são codificadas como no MIPS 32:\n",
        "  - Opcode : 6 bits\n",
        "  - Registrador destino : 5 bits\n",
        "  - Registrador fonte 1 : 5 bits\n",
        "  - Registrador fonte 2 : 5 bits\n",
        "  - Shamp ( operações de deslocamento ) : 5 bits\n",
        "  - Funct ( variacoes das operacoes especificadas do opcode ) : 6 bits"
      ],
      "metadata": {
        "id": "phYw_M6XOSJ6"
      }
    },
    {
      "cell_type": "code",
      "execution_count": null,
      "metadata": {
        "id": "1B40kQ2JIkO1"
      },
      "outputs": [],
      "source": [
        "# biblioteca do verilog\n",
        "%%bash\n",
        "sudo apt-get update\n",
        "sudo apt-get install verilog gtkwave"
      ]
    },
    {
      "cell_type": "code",
      "source": [
        "%%file pc.sv\n",
        "// Contador de programa ( PC )\n",
        "module pc (clk, address);\n",
        "  // Declaracao de portas\n",
        "  input clk;\n",
        "  reg [31:0] counter;\n",
        "  output [31:0] address;\n",
        "\n",
        "  // Iniciando endereco\n",
        "  initial begin\n",
        "    counter = -32'd1;\n",
        "  end\n",
        "\n",
        "  // Funcionamento do contador => contador + 1\n",
        "  always @(posedge clk) begin\n",
        "    counter <= counter + 32'd1;\n",
        "  end\n",
        "\n",
        "  // Atribuindo o valor do endereco\n",
        "  assign address = counter;\n",
        "endmodule"
      ],
      "metadata": {
        "id": "11AcKfu8I-5-",
        "colab": {
          "base_uri": "https://localhost:8080/"
        },
        "outputId": "d517afa8-b281-469f-a287-08446068e3f1"
      },
      "execution_count": 2,
      "outputs": [
        {
          "output_type": "stream",
          "name": "stdout",
          "text": [
            "Writing pc.sv\n"
          ]
        }
      ]
    },
    {
      "cell_type": "code",
      "source": [
        "%%file instructions_memory.sv\n",
        "// Memória de instrucoes\n",
        "module instructions_memory ( clk, counter, output_instruction );\n",
        "  // Declaracao de portas\n",
        "  input clk;\n",
        "  input [31:0] counter;\n",
        "  output [31:0] output_instruction;\n",
        "\n",
        "  // Criando uma memoria de instrucoes com 100 enderecos de 32 bits\n",
        "  reg [31:0] memoriaInstrucoes [99:0];\n",
        "\n",
        "  // Iniciando a memoria de instrucoes\n",
        "  initial begin\n",
        "    // 6 bits ( opcode ) = 000001\n",
        "    // 5 bits ( registrador destino ) = 00010\n",
        "    // 5 bits ( registrador origem 1 ) = 00000\n",
        "    // 5 bits ( registrador origem 2 ) = 00001\n",
        "    // 5 bits ( shamt - operacoes de deslocamento ) = 00000\n",
        "    // 6 bits ( funct - variacoes das operacoes especificadas do opcode ) = 00000\n",
        "    memoriaInstrucoes[32'd0] = 32'b00000100010000000000100000000000;\n",
        "  end\n",
        "\n",
        "  // Atribuindo o valor da instrucao\n",
        "  assign output_instruction = memoriaInstrucoes[ counter ];\n",
        "endmodule"
      ],
      "metadata": {
        "id": "L4OKjf-yKRJ_",
        "colab": {
          "base_uri": "https://localhost:8080/"
        },
        "outputId": "ec498496-8141-4d0c-ec32-d7264ca59bec"
      },
      "execution_count": 3,
      "outputs": [
        {
          "output_type": "stream",
          "name": "stdout",
          "text": [
            "Writing instructions_memory.sv\n"
          ]
        }
      ]
    },
    {
      "cell_type": "code",
      "source": [
        "%%file register_bank.sv\n",
        "// Banco de registradores\n",
        "module register_bank ( clk, addr_regd, addr_reg1, addr_reg2, data_in, value_regd, value_reg1, value_reg2 );\n",
        "  // Declaracao de portas\n",
        "  input clk;\n",
        "  input [4:0] addr_regd, addr_reg1, addr_reg2;\n",
        "  input [31:0] data_in;\n",
        "  output [31:0] value_regd, value_reg1, value_reg2;\n",
        "\n",
        "  // Criando um banco de registradores com 32 enderecos de 32 bits\n",
        "  reg [31:0] registerBank [31:0];\n",
        "\n",
        "  // Iniciar valores para os registradores reg1 e reg2 no banco de registradores\n",
        "  initial begin\n",
        "    registerBank[5'd0] = 32'd3;\n",
        "    registerBank[5'd1] = 32'd5;\n",
        "  end\n",
        "\n",
        "  // Descrevendo o comportamento de escrita no banco de registradores\n",
        "  always @(posedge clk) begin\n",
        "    registerBank[addr_regd] <= data_in; \n",
        "  end\n",
        "\n",
        "  // Atribuicao de valores\n",
        "  assign value_regd = registerBank[addr_regd];\n",
        "  assign value_reg1 = registerBank[addr_reg1];\n",
        "  assign value_reg2 = registerBank[addr_reg2];\n",
        "endmodule"
      ],
      "metadata": {
        "colab": {
          "base_uri": "https://localhost:8080/"
        },
        "id": "KDaoTCHuZyaR",
        "outputId": "51d43af6-d838-4955-ca0d-2b2c094600d4"
      },
      "execution_count": 4,
      "outputs": [
        {
          "output_type": "stream",
          "name": "stdout",
          "text": [
            "Writing register_bank.sv\n"
          ]
        }
      ]
    },
    {
      "cell_type": "code",
      "source": [
        "%%file ula.sv\n",
        "// Unidade logica aritmetica (ULA)\n",
        "module ula ( opcode, in1, in2, out );\n",
        "  // Declaracao de portas\n",
        "  input [5:0] opcode;\n",
        "  input [31:0] in1, in2;\n",
        "  output [31:0] out;\n",
        "  \n",
        "  // Variavel para guardar resultado\n",
        "  reg [31:0] result;\n",
        "\n",
        "  // Descrevendo o comportamento da ULA\n",
        "  always @(in1, in2, opcode) begin\n",
        "    case ({opcode})\n",
        "      6'd1 : result = in1 + in2;\n",
        "      default : result = 32'd0;\n",
        "    endcase\n",
        "  end\n",
        "\n",
        "  // Atribuindo o valor do resultado\n",
        "  assign out = result;\n",
        "endmodule"
      ],
      "metadata": {
        "colab": {
          "base_uri": "https://localhost:8080/"
        },
        "id": "N-JaRzc2emVl",
        "outputId": "e24be711-b027-4506-ecd9-08e1801c2084"
      },
      "execution_count": 5,
      "outputs": [
        {
          "output_type": "stream",
          "name": "stdout",
          "text": [
            "Writing ula.sv\n"
          ]
        }
      ]
    },
    {
      "cell_type": "code",
      "source": [
        "%%file cpu.v\n",
        "\n",
        "`include \"pc.sv\"\n",
        "`include \"instructions_memory.sv\"\n",
        "`include \"register_bank.sv\"\n",
        "`include \"ula.sv\"\n",
        "\n",
        "// Unidade Central de Processamento\n",
        "module cpu ( clock, value_output );\n",
        "  // Declaracao de portas\n",
        "  input clock;\n",
        "  output [31:0] value_output;\n",
        "\n",
        "  // Variaveis intermediarias\n",
        "  wire [31:0] address, instruction, data_ula, value_regd, value_reg1, value_reg2;\n",
        "\n",
        "  // PC\n",
        "  pc p(clock, address);\n",
        "\n",
        "  // Acessando memoria de instrucoes\n",
        "  instructions_memory im( clock, address, instruction );\n",
        "\n",
        "  wire [4:0] regd, reg1, reg2;\n",
        "  assign regd = instruction[25:21];\n",
        "  assign reg1 = instruction[20:16];\n",
        "  assign reg2 = instruction[15:11];\n",
        "\n",
        "  wire [5:0] op;\n",
        "  assign op = instruction[31:26];\n",
        "\n",
        "  // Acessando banco de registradores\n",
        "  register_bank rb( clock, regd, reg1, reg2, data_ula, value_regd, value_reg1, value_reg2 );\n",
        "\n",
        "  // Operando sobre os valores dos registradores\n",
        "  ula alu( op, value_reg1, value_reg2, data_ula );\n",
        "\n",
        "  assign value_output = data_ula;\n",
        "\n",
        "  /*\n",
        "\n",
        "  // Atribuindo o valor do registrador destino\n",
        "  assign value_output = value_regd;\n",
        "  */\n",
        "\n",
        "endmodule\n",
        "\n",
        "/*\n",
        "\n",
        " Módulo de teste\n",
        "\n",
        "*/\n",
        "module teste(); // Definindo um módulo de teste, onde adiciono valores\n",
        "parameter nbits = 2; // 2^{entradas} = 2^{1} = 2\n",
        "reg counter; // Criando um registro de 2 bits para entradas\n",
        "wire [31:0] z; // Declarando um fio de saída\n",
        "integer k; // Declarando um inteiro para percorrer todas as possibilidades\n",
        "\tcpu t(counter, z);\n",
        "\tinitial begin // // Início do bloco de comandos\n",
        "\t\t$display(\"clk | z\"); // printf apenas com string\n",
        "\t\t$monitor(\" %1b  | %1d\", counter, z[31:0]); // printf passando variáveis\n",
        "    counter = 0;\n",
        "    /*\n",
        "    Percorre a quantidade de saídas e armazena no contador\n",
        "    */\n",
        "\t\tfor (k=1; k<nbits; k=k+1)\n",
        "     #1 counter = k;\n",
        "\t\t$finish;\n",
        "\tend // Fim do bloco de comandos\n",
        "endmodule\n"
      ],
      "metadata": {
        "colab": {
          "base_uri": "https://localhost:8080/"
        },
        "id": "iWKwNVLggd9x",
        "outputId": "f8f6777d-cf3f-49ab-f189-2e54c532b939"
      },
      "execution_count": 6,
      "outputs": [
        {
          "output_type": "stream",
          "name": "stdout",
          "text": [
            "Writing cpu.v\n"
          ]
        }
      ]
    },
    {
      "cell_type": "code",
      "source": [
        "%%bash\n",
        "iverilog cpu.v -o cpu\n",
        "vvp cpu"
      ],
      "metadata": {
        "colab": {
          "base_uri": "https://localhost:8080/"
        },
        "id": "ilp_Yy4z991E",
        "outputId": "c34bd5db-46a9-435b-b97d-5d57aaeb6846"
      },
      "execution_count": 7,
      "outputs": [
        {
          "output_type": "stream",
          "name": "stdout",
          "text": [
            "clk | z\n",
            " 0  | x\n",
            " 1  | 8\n"
          ]
        }
      ]
    }
  ]
}